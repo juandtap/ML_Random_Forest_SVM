{
 "cells": [
  {
   "cell_type": "markdown",
   "metadata": {},
   "source": [
    "![ups logo](https://upload.wikimedia.org/wikipedia/commons/thumb/b/b0/Logo_Universidad_Polit%C3%A9cnica_Salesiana_del_Ecuador.png/640px-Logo_Universidad_Polit%C3%A9cnica_Salesiana_del_Ecuador.png)\n",
    "\n",
    "## Aprendizaje Automático P64\n",
    "\n",
    "## Practica 04\n",
    "\n",
    "\n",
    "### Árboles de decisión, Random Forest (RF) y Máquinas de Soporte Vectorial (SVM)\n",
    "\n",
    "### Fase 1: Analisis exploratorio y preparacionde los datos\n",
    "\n",
    "### Autor: Diego Tapia"
   ]
  },
  {
   "cell_type": "code",
   "execution_count": null,
   "metadata": {},
   "outputs": [],
   "source": []
  }
 ],
 "metadata": {
  "language_info": {
   "name": "python"
  }
 },
 "nbformat": 4,
 "nbformat_minor": 2
}
